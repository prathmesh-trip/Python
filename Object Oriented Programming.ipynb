{
 "cells": [
  {
   "cell_type": "markdown",
   "id": "9d1910ff",
   "metadata": {
    "id": "9d1910ff"
   },
   "source": [
    "# Procedural v/s Object Oriented Programming\n",
    "\n",
    "## Procedural Programming\n",
    "- Code is a sequence of steps\n",
    "- Good for Data analysis and steps\n",
    "\n",
    "##### Example : Planning your own schedule\n",
    "    \n",
    "## Object Oriented Programming\n",
    "- Code as interactions of object\n",
    "- Great for building frameworks\n",
    "- Maintainable and reusable code\n",
    "\n",
    "##### Example : Planning your town's schedule\n"
   ]
  },
  {
   "cell_type": "markdown",
   "id": "4b0037a7",
   "metadata": {
    "id": "4b0037a7"
   },
   "source": [
    "# Classes and Object in Python\n",
    "\n",
    "- Everything in Python is an object\n",
    "\n",
    "\n",
    "- Every object has a class\n",
    "\n",
    "\n",
    "- Object = state + behaviour\n",
    "    - State = attributes (Example : **shape** of an array)\n",
    "    - Behaviour = methods\n",
    "\n",
    "\n",
    "- Object = attributes + methods\n",
    "    - attributes = variables --> obj.attribute\n",
    "    - method = function() --> obj.my_method()\n",
    "\n",
    "\n",
    "- To get the list of all attributes\n",
    "    - dir(var)\n",
    "    \n",
    "#####  Classes and objects both have attributes and methods, but the difference is that a class is an abstract template, while an object is a concrete representation of a class."
   ]
  },
  {
   "cell_type": "markdown",
   "id": "8a99212b",
   "metadata": {
    "id": "8a99212b"
   },
   "source": [
    "## Class anatomy: attributes and methods"
   ]
  },
  {
   "cell_type": "markdown",
   "id": "cdc41e75",
   "metadata": {
    "id": "cdc41e75"
   },
   "source": [
    "### Empty Class\n",
    "\n",
    "In the following example we make an empty class :\n",
    "\n",
    "- class **name** : starts a class definition\n",
    "- code inside a class is indented\n",
    "- use **pass** to create an empty class\n",
    "- use CLassName() to create an object of class ClassName"
   ]
  },
  {
   "cell_type": "code",
   "execution_count": 2,
   "id": "87f79a2f",
   "metadata": {
    "id": "87f79a2f",
    "outputId": "5e4f9ca8-84c7-477f-c936-4269a2cb6a7e"
   },
   "outputs": [
    {
     "data": {
      "text/plain": [
       "__main__.Customer"
      ]
     },
     "execution_count": 2,
     "metadata": {},
     "output_type": "execute_result"
    }
   ],
   "source": [
    "class Customer:\n",
    "    ## Code for class goes here\n",
    "    pass\n",
    "\n",
    "##################\n",
    "a = Customer()\n",
    "type(a)"
   ]
  },
  {
   "cell_type": "markdown",
   "id": "853f9d9d",
   "metadata": {
    "id": "853f9d9d"
   },
   "source": [
    "## Adding Methods to a class\n",
    "\n",
    "- Method definition = function definition within a class\n",
    "- use self as the 1st argument in a method definition\n",
    "    - self, is a stand-in (temporary variable) for the object we are about to create\n",
    "    - is the first argument of any method"
   ]
  },
  {
   "cell_type": "code",
   "execution_count": 3,
   "id": "e633a5d0",
   "metadata": {
    "id": "e633a5d0",
    "outputId": "31841375-5887-4e5c-dabf-927895d5c3d8"
   },
   "outputs": [
    {
     "name": "stdout",
     "output_type": "stream",
     "text": [
      "I am Customer Laura\n"
     ]
    }
   ],
   "source": [
    "class Customer:\n",
    "    def identify(self, name):\n",
    "        print(\"I am Customer \" + name)\n",
    "\n",
    "\n",
    "###########################        \n",
    "cust = Customer()\n",
    "cust.identify(\"Laura\")\n"
   ]
  },
  {
   "cell_type": "code",
   "execution_count": 4,
   "id": "92e48b30",
   "metadata": {
    "id": "92e48b30",
    "outputId": "cada331f-f0fd-43ee-e5da-117aa0c184e0"
   },
   "outputs": [
    {
     "name": "stdout",
     "output_type": "stream",
     "text": [
      "I am Customer Laura2\n"
     ]
    }
   ],
   "source": [
    "Customer.identify(cust,\"Laura2\")"
   ]
  },
  {
   "cell_type": "markdown",
   "id": "0aa77409",
   "metadata": {
    "id": "0aa77409"
   },
   "source": [
    "## Adding attributes : Making Name as attribute"
   ]
  },
  {
   "cell_type": "code",
   "execution_count": 5,
   "id": "ceb2482f",
   "metadata": {
    "id": "ceb2482f",
    "outputId": "9ac819c7-cc5b-43bf-e693-3859d3387ba9"
   },
   "outputs": [
    {
     "name": "stdout",
     "output_type": "stream",
     "text": [
      "I am Customer Laura3\n"
     ]
    }
   ],
   "source": [
    "class Customer:\n",
    "    def set_name(self, new_name):\n",
    "        self.name = new_name\n",
    "        \n",
    "    def identify(self):\n",
    "        print(\"I am Customer \"+ self.name)\n",
    "\n",
    "#########################\n",
    "cust3 = Customer()\n",
    "cust3.set_name('Laura3')\n",
    "cust3.identify()"
   ]
  },
  {
   "cell_type": "markdown",
   "id": "f1743efe",
   "metadata": {
    "id": "f1743efe"
   },
   "source": [
    "### Ex: Understanding class definitions\n",
    "Objects and classes consist of attributes (storing the state) and methods (storing the behavior).\n",
    "\n",
    "Before you get to writing your own classes, you need to understand the basic structure of the class, and how attributes in the class definition relate to attributes in the object. In this exercise, you have a class with one method and one attribute, as well as the object of that class."
   ]
  },
  {
   "cell_type": "code",
   "execution_count": 6,
   "id": "37e9a0c4",
   "metadata": {
    "id": "37e9a0c4",
    "outputId": "86f34bd9-b0c7-4862-8a45-28774c6af3cf"
   },
   "outputs": [
    {
     "name": "stdout",
     "output_type": "stream",
     "text": [
      "6\n"
     ]
    }
   ],
   "source": [
    "class MyCounter:\n",
    "    ## Define the attribute\n",
    "    def set_count(self, n):\n",
    "        self.count = n\n",
    "\n",
    "\n",
    "##Create an Object of class MyCounter\n",
    "mc = MyCounter()\n",
    "\n",
    "## Set attribute of the object to 5\n",
    "mc.set_count(5)\n",
    "\n",
    "## Modify the value of object's attribute\n",
    "mc.count = mc.count + 1\n",
    "print(mc.count)"
   ]
  },
  {
   "cell_type": "markdown",
   "id": "618629b7",
   "metadata": {
    "id": "618629b7"
   },
   "source": [
    "##### Notice how you used self.count to refer to the count attribute inside a class definition, and mc.count to refer to the count attribute of an object. Make sure you understand the difference, and when to use which form (review the video if necessary)!"
   ]
  },
  {
   "cell_type": "markdown",
   "id": "e13d76ef",
   "metadata": {
    "id": "e13d76ef"
   },
   "source": [
    "### Ex: Create your first class\n",
    "Time to write your first class! In this exercise, you'll start building the Employee class you briefly explored in the previous lesson. You'll start by creating methods that set attributes, and then add a few methods that manipulate them.\n",
    "\n",
    "As mentioned in the first video, an object-oriented approach is most useful when your code involves complex interactions of many objects. In real production code, classes can have dozens of attributes and methods with complicated logic, but the underlying structure is the same as with the most simple class.\n",
    "\n",
    "Your classes in this course will only have a few attributes and short methods, but the organizational principles behind the them will be directly translatable to more complicated code.\n",
    "\n",
    "- "
   ]
  },
  {
   "cell_type": "markdown",
   "id": "cb7e3eec",
   "metadata": {
    "id": "cb7e3eec"
   },
   "source": [
    "### Ex : Part 1\n",
    "- Create an empty class Employee.\n",
    "- Create an object emp of the class Employee by calling Employee()."
   ]
  },
  {
   "cell_type": "code",
   "execution_count": 7,
   "id": "e7527867",
   "metadata": {
    "id": "e7527867"
   },
   "outputs": [],
   "source": [
    "# Create an empty class Employee\n",
    "class Employee:\n",
    "    pass\n",
    "\n",
    "\n",
    "# Create an object emp of class Employee \n",
    "emp = Employee()\n"
   ]
  },
  {
   "cell_type": "markdown",
   "id": "b17a49b1",
   "metadata": {
    "id": "b17a49b1"
   },
   "source": [
    "### Ex : Part 2\n",
    "- Modify the Employee class to include a .set_name() method that takes a new_name argument, and assigns new_name to the .name attribute of the class.\n",
    "- Use the set_name() method on emp to set the name to 'Korel Rossi'.\n",
    "- Print emp.name."
   ]
  },
  {
   "cell_type": "code",
   "execution_count": 8,
   "id": "cf9d976d",
   "metadata": {
    "id": "cf9d976d",
    "outputId": "6c5b4b50-0ccc-4bda-cef0-98cceac346e6"
   },
   "outputs": [
    {
     "name": "stdout",
     "output_type": "stream",
     "text": [
      "Korel Rossi\n"
     ]
    }
   ],
   "source": [
    "# Include a set_name method\n",
    "class Employee:\n",
    "  \n",
    "  def set_name(self, new_name):\n",
    "    self.name = new_name\n",
    "  \n",
    "# Create an object emp of class Employee  \n",
    "emp = Employee()\n",
    "\n",
    "# Use set_name() on emp to set the name of emp to 'Korel Rossi'\n",
    "emp.set_name('Korel Rossi')\n",
    "\n",
    "# Print the name of emp\n",
    "print(emp.name)"
   ]
  },
  {
   "cell_type": "markdown",
   "id": "751517c3",
   "metadata": {
    "id": "751517c3"
   },
   "source": [
    "### Ex : Part 3\n",
    "- Follow the pattern to add another method - set_salary() - that will set the salary attribute of the class to the parameter new_salary passed to method.\n",
    "- Set the salary of emp to 50000."
   ]
  },
  {
   "cell_type": "code",
   "execution_count": 9,
   "id": "0ba6fa14",
   "metadata": {
    "id": "0ba6fa14",
    "outputId": "16e21286-a8ef-4799-993f-8e7b7ae10bf1"
   },
   "outputs": [
    {
     "name": "stdout",
     "output_type": "stream",
     "text": [
      "Employee Name:  Korel Rossi\n",
      "Employee Salary:  50000\n"
     ]
    }
   ],
   "source": [
    "class Employee:\n",
    "  \n",
    "  def set_name(self, new_name):\n",
    "    self.name = new_name\n",
    "  \n",
    "  # Add set_salary() method\n",
    "  def set_salary(self, new_salary):\n",
    "    self.salary = new_salary\n",
    "  \n",
    "# Create an object emp of class Employee  \n",
    "emp = Employee()\n",
    "\n",
    "# Use set_name to set the name of emp to 'Korel Rossi'\n",
    "emp.set_name('Korel Rossi')\n",
    "\n",
    "# Set the salary of emp to 50000\n",
    "emp.set_salary(50000)\n",
    "\n",
    "print(\"Employee Name: \",emp.name)\n",
    "print(\"Employee Salary: \",emp.salary)"
   ]
  },
  {
   "cell_type": "markdown",
   "id": "247bc2c8",
   "metadata": {
    "id": "247bc2c8"
   },
   "source": [
    "## Ex : Using attributes in class definition\n",
    "In the previous exercise, you defined an Employee class with two attributes and two methods setting those attributes. This kind of method, aptly called a setter method, is far from the only possible kind. Methods are functions, so anything you can do with a function, you can also do with a method. For example, you can use methods to print, return values, make plots, and raise exceptions, as long as it makes sense as the behavior of the objects described by the class (an Employee probably wouldn't have a pivot_table() method).\n",
    "\n",
    "In this exercise, you'll go beyond the setter methods and learn how to use existing class attributes to define new methods. The Employee class and the emp object from the previous exercise are in your script pane."
   ]
  },
  {
   "cell_type": "markdown",
   "id": "bdc2e822",
   "metadata": {
    "id": "bdc2e822"
   },
   "source": [
    "### Ex : Part 1\n",
    "\n",
    "- Print the salary attribute of emp.\n",
    "- Attributes aren't read-only: use assignment (equality sign) to increase the salary attribute of emp by 1500, and print it again."
   ]
  },
  {
   "cell_type": "code",
   "execution_count": 10,
   "id": "34b8fc90",
   "metadata": {
    "id": "34b8fc90",
    "outputId": "47445a02-4235-4f01-b8d4-bc0c5a23176f"
   },
   "outputs": [
    {
     "name": "stdout",
     "output_type": "stream",
     "text": [
      "50000\n",
      "51500\n"
     ]
    }
   ],
   "source": [
    "class Employee:\n",
    "    def set_name(self, new_name):\n",
    "        self.name = new_name\n",
    "    \n",
    "    def set_salary(self, new_salary):\n",
    "        self.salary = new_salary\n",
    "        \n",
    "    def give_raise(self, amount):\n",
    "        self.raise_ = amount\n",
    "        self.salary = self.salary + self.raise_\n",
    "        \n",
    "    def monthly_salary(self):\n",
    "        return self.salary/12\n",
    "    \n",
    "emp = Employee()\n",
    "emp.set_name('Korel Rossi')\n",
    "emp.set_salary(50000)\n",
    "\n",
    "# Print the salary attribute of emp\n",
    "print(emp.salary)\n",
    "\n",
    "# Increase salary of emp by 1500\n",
    "emp.salary = emp.salary + 1500\n",
    "\n",
    "# Print the salary attribute of emp again\n",
    "print(emp.salary)"
   ]
  },
  {
   "cell_type": "markdown",
   "id": "57fb290b",
   "metadata": {
    "id": "57fb290b"
   },
   "source": [
    "### Ex : Part 2\n",
    "\n",
    "- Raising a salary for an employee is a common pattern of behavior, so it should be part of the class definition instead.\n",
    "\n",
    "- Add a method give_raise() to Employee that increases the salary by the amount passed to give_raise() as a parameter."
   ]
  },
  {
   "cell_type": "code",
   "execution_count": 11,
   "id": "3424c36b",
   "metadata": {
    "id": "3424c36b",
    "outputId": "12333a01-7b4b-4a3e-b2e4-5f3d3272437c"
   },
   "outputs": [
    {
     "name": "stdout",
     "output_type": "stream",
     "text": [
      "50000\n",
      "51500\n"
     ]
    }
   ],
   "source": [
    "emp = Employee()\n",
    "emp.set_name('Korel Rossi')\n",
    "emp.set_salary(50000)\n",
    "\n",
    "print(emp.salary)\n",
    "emp.give_raise(1500)\n",
    "print(emp.salary)"
   ]
  },
  {
   "cell_type": "markdown",
   "id": "9d2922ff",
   "metadata": {
    "id": "9d2922ff"
   },
   "source": [
    "### Ex : Part 3\n",
    "- Methods don't have to just modify the attributes - they can return values as well!\n",
    "\n",
    "- Add a method monthly_salary() that returns the value of the .salary attribute divided by 12.\n",
    "- Call .monthly_salary() on emp, assign it to mon_sal, and print."
   ]
  },
  {
   "cell_type": "code",
   "execution_count": 12,
   "id": "18dc1939",
   "metadata": {
    "id": "18dc1939",
    "outputId": "3c91e359-b416-4dd6-c170-2ec3889c9df1"
   },
   "outputs": [
    {
     "name": "stdout",
     "output_type": "stream",
     "text": [
      "4166.666666666667\n"
     ]
    }
   ],
   "source": [
    "emp = Employee()\n",
    "emp.set_name('Korel Rossi')\n",
    "emp.set_salary(50000)\n",
    "\n",
    "# Get monthly salary of emp and assign to mon_sal\n",
    "mon_sal = emp.monthly_salary()\n",
    "\n",
    "# Print mon_sal\n",
    "print(mon_sal)"
   ]
  },
  {
   "cell_type": "markdown",
   "id": "e42922e0",
   "metadata": {
    "id": "e42922e0"
   },
   "source": [
    "## Recap : Methods and Attributes\n",
    "\n",
    "- Methods are functions within a class\n",
    "- self as the first argument\n",
    "- define attributes by assignment\n",
    "- refer to attributes in class via **self.__**\n",
    "\n",
    "Example \n",
    "\n",
    "class Myclass:\n",
    "\n",
    "    ## function defintion in class\n",
    "    ## first argument is self\n",
    "    def my_method1(self, other_args....):\n",
    "        #do things here\n",
    "    \n",
    "    def my_method2(self, my_attr):\n",
    "    ## attribute create by assignment\n",
    "    self.my_attr = my_attr"
   ]
  },
  {
   "cell_type": "markdown",
   "id": "e9261acc",
   "metadata": {
    "id": "e9261acc"
   },
   "source": [
    "## Class Constructor"
   ]
  },
  {
   "cell_type": "markdown",
   "id": "0541d9cd",
   "metadata": {
    "id": "0541d9cd"
   },
   "source": [
    "### Ex : Add a class constructor\n",
    "In this exercise, you'll continue working on the Employee class. Instead of using the methods like set_salary() that you wrote in the previous lesson, you will introduce a constructor that assigns name and salary to the employee at the moment when the object is created.\n",
    "\n",
    "You'll also create a new attribute -- hire_date -- which will not be initialized through parameters, but instead will contain the current date.\n",
    "\n",
    "Initializing attributes in the constructor is a good idea, because this ensures that the object has all the necessary attributes the moment it is created.\n",
    "\n",
    "### Ex : Part 1\n",
    "\n",
    "- Define the class Employee with a constructor __init__() that:\n",
    "\n",
    "    - accepts two arguments, name and salary (with default value0),\n",
    "    - creates two attributes, also called name and salary,\n",
    "    - sets their values to the corresponding arguments."
   ]
  },
  {
   "cell_type": "code",
   "execution_count": 13,
   "id": "3da22c6a",
   "metadata": {
    "id": "3da22c6a",
    "outputId": "37e694d0-559d-441f-921d-722adf7b5e85"
   },
   "outputs": [
    {
     "name": "stdout",
     "output_type": "stream",
     "text": [
      "Korel Rossi\n",
      "0\n"
     ]
    }
   ],
   "source": [
    "class Employee:\n",
    "    # Create __init__() method\n",
    "    def __init__(self, name, salary = 0):\n",
    "        # Create the name and salary attributes\n",
    "        self.name = name\n",
    "        self.salary = salary\n",
    "    \n",
    "    # From the previous lesson\n",
    "    def give_raise(self, amount):\n",
    "        self.salary += amount\n",
    "\n",
    "    def monthly_salary(self):\n",
    "        return self.salary/12\n",
    "        \n",
    "emp = Employee(\"Korel Rossi\")\n",
    "print(emp.name)\n",
    "print(emp.salary)     "
   ]
  },
  {
   "cell_type": "markdown",
   "id": "1cb50335",
   "metadata": {
    "id": "1cb50335"
   },
   "source": [
    "### Ex: Part 2\n",
    "\n",
    "The __init__() method is a great place to do preprocessing.\n",
    "\n",
    "- Modify __init__() to check whether the salary parameter is positive:\n",
    "    - if yes, assign it to the salary attribute,\n",
    "    - if not, assign 0 to the attribute and print \"Invalid salary!\"."
   ]
  },
  {
   "cell_type": "code",
   "execution_count": 14,
   "id": "e6988da0",
   "metadata": {
    "id": "e6988da0",
    "outputId": "40970d26-d24a-47b4-a31c-10114c72c94b"
   },
   "outputs": [
    {
     "name": "stdout",
     "output_type": "stream",
     "text": [
      "Invalid Salary!\n",
      "Korel Rossi\n",
      "0\n"
     ]
    }
   ],
   "source": [
    "class Employee:\n",
    "  \n",
    "    def __init__(self, name, salary=0):\n",
    "        self.name = name\n",
    "        # Modify code below to check if salary is positive\n",
    "        if salary >= 0:\n",
    "            self.salary = salary\n",
    "        else:\n",
    "            self.salary = 0\n",
    "            print(\"Invalid Salary!\")    \n",
    "   \n",
    "   # ...Other methods omitted for brevity ...\n",
    "      \n",
    "emp = Employee(\"Korel Rossi\", -1000)\n",
    "print(emp.name)\n",
    "print(emp.salary)"
   ]
  },
  {
   "cell_type": "markdown",
   "id": "3c4df2f0",
   "metadata": {
    "id": "3c4df2f0"
   },
   "source": [
    "### Ex: Part 3\n",
    "\n",
    "- Import datetime from the datetime module. This contains the function that returns current date.\n",
    "- Add an attribute hire_date and set it to datetime.today()."
   ]
  },
  {
   "cell_type": "code",
   "execution_count": 15,
   "id": "92ebec0f",
   "metadata": {
    "id": "92ebec0f",
    "outputId": "0261c9fb-1264-403a-9346-6a8ddb0f5412"
   },
   "outputs": [
    {
     "name": "stdout",
     "output_type": "stream",
     "text": [
      "Invalid salary!\n",
      "Korel Rossi\n",
      "0\n",
      "2021-08-15 11:21:30.348891\n"
     ]
    }
   ],
   "source": [
    "# Import datetime from datetime\n",
    "from datetime import datetime\n",
    "\n",
    "class Employee:\n",
    "    \n",
    "    def __init__(self, name, hire_date,salary=0):\n",
    "        self.name = name\n",
    "        if salary > 0:\n",
    "          self.salary = salary\n",
    "        else:\n",
    "          self.salary = 0\n",
    "          print(\"Invalid salary!\")\n",
    "          \n",
    "        # Add the hire_date attribute and set it to today's date\n",
    "        self.hire_date = datetime.today()\n",
    "        \n",
    "   # ...Other methods omitted for brevity ...\n",
    "      \n",
    "emp = Employee(\"Korel Rossi\", -1000)\n",
    "print(emp.name)\n",
    "print(emp.salary)\n",
    "print(emp.hire_date)"
   ]
  },
  {
   "cell_type": "markdown",
   "id": "058cf059",
   "metadata": {
    "id": "058cf059"
   },
   "source": [
    "##### You're doing great! Notice how you had to add the import statement to use the today() function. You can use functions from other modules in your class definition, but you need to import the module first, and the import statement has to be outside class definition."
   ]
  },
  {
   "cell_type": "markdown",
   "id": "6d6e8f79",
   "metadata": {
    "id": "6d6e8f79"
   },
   "source": [
    "### Ex: Write a class from scratch\n",
    "You are a Python developer writing a visualization package. For any element in a visualization, you want to be able to tell the position of the element, how far it is from other elements, and easily implement horizontal or vertical flip .\n",
    "\n",
    "The most basic element of any visualization is a single point. In this exercise, you'll write a class for a point on a plane from scratch.\n",
    "\n",
    "Instructions\n",
    "100 XP\n",
    "\n",
    "- Define the class Point that has:\n",
    "\n",
    "- Two attributes, x and y - the coordinates of the point on the plane;\n",
    "- A constructor that accepts two arguments, x and y, that initialize the corresponding attributes. These arguments should have default value of 0.0;\n",
    "- A method distance_to_origin() that returns the distance from the point to the origin. The formula for that is .\n",
    "- A method reflect(), that reflects the point with respect to the x- or y-axis:accepts one argument axis,\n",
    "    - if axis=\"x\" , it sets the y (not a typo!) attribute to the negative value of the y attribute,\n",
    "    - if axis=\"y\", it sets the x attribute to the negative value of the x attribute,\n",
    "for any other value of axis, prints an error message. Reflection of a point with respect to y and x axes\n",
    "\n",
    "- Note: You can choose to use sqrt() function from either the numpy or the math package, but whichever package you choose, don't forget to import it before starting the class definition!\n",
    "\n",
    "- To check your work, you should be able to run the following code without errors:\n",
    "\n",
    "        pt = Point(x=3.0)\n",
    "        pt.reflect(\"y\")\n",
    "        print((pt.x, pt.y))\n",
    "        pt.y = 4.0\n",
    "        print(pt.distance_to_origin())\n",
    "        and return the output\n",
    "\n",
    "(-3.0,0.0)\n",
    "5.0"
   ]
  },
  {
   "cell_type": "code",
   "execution_count": 16,
   "id": "845685c7",
   "metadata": {
    "id": "845685c7",
    "outputId": "115abc1c-948f-40b5-a83a-b9d89ff830d9"
   },
   "outputs": [
    {
     "name": "stdout",
     "output_type": "stream",
     "text": [
      "(-3.0, 0.0)\n",
      "5.0\n"
     ]
    }
   ],
   "source": [
    "from numpy import sqrt\n",
    "\n",
    "class Point:\n",
    "    def __init__(self, x=0.0, y=0.0):\n",
    "        self.x = x\n",
    "        self.y = y\n",
    "        \n",
    "    def distance_to_origin(self):\n",
    "        return sqrt((self.x)**2+(self.y)**2)\n",
    "    \n",
    "    def reflect(self, axis):\n",
    "        self.axis = axis\n",
    "        if self.axis == \"x\":\n",
    "            self.y = -(self.y)\n",
    "        elif self.axis==\"y\":\n",
    "            self.x = -(self.x)\n",
    "        else:\n",
    "            print(\"Error\")\n",
    "\n",
    "\n",
    "            \n",
    "    \n",
    "pt = Point(x=3.0)\n",
    "pt.reflect(\"y\")\n",
    "print((pt.x, pt.y))\n",
    "pt.y = 4.0\n",
    "print(pt.distance_to_origin())\n",
    "    "
   ]
  },
  {
   "cell_type": "markdown",
   "id": "2b26f95b",
   "metadata": {
    "id": "2b26f95b"
   },
   "source": [
    "##### Great work! Notice how you implemented distance_to_origin() as a method instead of an attribute. Implementing it as an attribute would be less sustainable - you would have to recalculate it every time you change the values of the x and y attributes to make sure the object state stays current."
   ]
  },
  {
   "cell_type": "markdown",
   "id": "BxAZUef0n1Uf",
   "metadata": {
    "id": "BxAZUef0n1Uf"
   },
   "source": []
  },
  {
   "cell_type": "markdown",
   "id": "gX9QFhqGiNcB",
   "metadata": {
    "id": "gX9QFhqGiNcB"
   },
   "source": [
    "### Instance Data and Class Data\n"
   ]
  },
  {
   "cell_type": "markdown",
   "id": "mQGN6_eJqZSX",
   "metadata": {
    "id": "mQGN6_eJqZSX"
   },
   "source": [
    "#### Instance Level Data\n",
    "\n",
    "In the example below:\n",
    "- name, salary are instance attributes\n",
    "- self binds to an instance"
   ]
  },
  {
   "cell_type": "code",
   "execution_count": 17,
   "id": "OPk99aN7iL7w",
   "metadata": {
    "id": "OPk99aN7iL7w"
   },
   "outputs": [],
   "source": [
    "class Employee:\n",
    "  def __init__(self, name, salary):\n",
    "    self.name = name\n",
    "    self.salary = salary\n",
    "\n",
    "emp1 = Employee(\"Teo Mille\",50000)\n",
    "emp1 = Employee(\"Marta Popov\",65000)"
   ]
  },
  {
   "cell_type": "markdown",
   "id": "Ljd85kh9rEOd",
   "metadata": {
    "id": "Ljd85kh9rEOd"
   },
   "source": [
    "## Class Level Data\n",
    "\n",
    "- Data that is shared among all instances of a class\n",
    "- Define class attributes in the body of a class\n",
    "\n",
    "#### Applications - Why use class attributes ?\n",
    "Global constants related to the class\n",
    "- Minimal/Maximal valuels or attributes\n",
    "- Commonly used values and constans, e.g. pi for a Circle class"
   ]
  },
  {
   "cell_type": "code",
   "execution_count": 18,
   "id": "CQkJGLK9rC3_",
   "metadata": {
    "colab": {
     "base_uri": "https://localhost:8080/"
    },
    "id": "CQkJGLK9rC3_",
    "outputId": "deb5a6e7-c4fb-41a1-bf52-827fe0f03e86"
   },
   "outputs": [
    {
     "name": "stdout",
     "output_type": "stream",
     "text": [
      "Teo Mille\n",
      "30000\n",
      "Marta Popov\n",
      "30000\n"
     ]
    }
   ],
   "source": [
    "class Employee:\n",
    "  #Define a class attribute\n",
    "  MIN_SALARY = 30000\n",
    "  def __init__(self, name, salary):\n",
    "    self.name = name\n",
    "    # Use class name to access class attribute\n",
    "    if salary >= Employee.MIN_SALARY:\n",
    "      self.salary = salary\n",
    "    else:\n",
    "      self.salary = Employee.MIN_SALARY\n",
    "\n",
    "emp1 = Employee(\"Teo Mille\",5000)\n",
    "print(emp1.name)\n",
    "print(emp1.salary)\n",
    "emp2 = Employee(\"Marta Popov\",10000)\n",
    "print(emp2.name)\n",
    "print(emp2.salary)"
   ]
  },
  {
   "cell_type": "markdown",
   "id": "y40zLnzlKmU4",
   "metadata": {
    "id": "y40zLnzlKmU4"
   },
   "source": [
    "### Ex: Class-level attributes\n",
    "\n",
    "Class attributes store data that is shared among all the class instances. They are assigned values in the class body, and are referred to using the ClassName. syntax rather than self. syntax when used in methods.\n",
    "\n",
    "In this exercise, you will be a game developer working on a game that will have several players moving on a grid and interacting with each other. As the first step, you want to define a Player class that will just move along a straight line. Player will have a position attribute and a move() method. The grid is limited, so the position of Player will have a maximal value.\n",
    "\n",
    "\n",
    "- Define a class Player that has:\n",
    "- A class attribute MAX_POSITION with value 10.\n",
    "- The __init__() method that sets the position instance attribute to 0.\n",
    "- Print Player.MAX_POSITION.\n",
    "- Create a Player object p and print its MAX_POSITION."
   ]
  },
  {
   "cell_type": "code",
   "execution_count": 19,
   "id": "pxb4q-hmKtyS",
   "metadata": {
    "colab": {
     "base_uri": "https://localhost:8080/"
    },
    "id": "pxb4q-hmKtyS",
    "outputId": "6c5f1d9c-24ec-41f2-cc46-0d2261cb9817"
   },
   "outputs": [
    {
     "name": "stdout",
     "output_type": "stream",
     "text": [
      "10\n",
      "10\n"
     ]
    }
   ],
   "source": [
    "## Create a Player class\n",
    "class Player:\n",
    "  MAX_POSITION = 10\n",
    "  def __init__(self):\n",
    "    self.position = 0\n",
    "\n",
    "print(Player.MAX_POSITION)\n",
    "\n",
    "p = Player()\n",
    "print(p.MAX_POSITION)"
   ]
  },
  {
   "cell_type": "markdown",
   "id": "jb0OvyIjLaJ0",
   "metadata": {
    "id": "jb0OvyIjLaJ0"
   },
   "source": [
    "### Ex: Class-level attributes\n",
    "Class attributes store data that is shared among all the class instances. They are assigned values in the class body, and are referred to using the ClassName. syntax rather than self. syntax when used in methods.\n",
    "\n",
    "In this exercise, you will be a game developer working on a game that will have several players moving on a grid and interacting with each other. As the first step, you want to define a Player class that will just move along a straight line. Player will have a position attribute and a move() method. The grid is limited, so the position of Player will have a maximal value.\n",
    "\n",
    "Instructions 2/2\n",
    "50 XP\n",
    "Add a move() method with a steps parameter such that:\n",
    "\n",
    "- if position plus steps is less than MAX_POSITION, then add steps to position and assign the result back to position;\n",
    "otherwise, set position to MAX_POSITION.\n",
    "- Take a look at the console for a visualization!"
   ]
  },
  {
   "cell_type": "code",
   "execution_count": 20,
   "id": "eRZidl0SLWcM",
   "metadata": {
    "colab": {
     "base_uri": "https://localhost:8080/"
    },
    "id": "eRZidl0SLWcM",
    "outputId": "b3763e43-9239-41e9-bd98-3e9940316a37"
   },
   "outputs": [
    {
     "name": "stdout",
     "output_type": "stream",
     "text": [
      "|----------\n",
      "----|------\n",
      "---------|-\n",
      "----------|\n"
     ]
    }
   ],
   "source": [
    "class Player:\n",
    "    MAX_POSITION = 10\n",
    "    \n",
    "    def __init__(self):\n",
    "        self.position = 0\n",
    "\n",
    "    # Add a move() method with steps parameter\n",
    "    def move(self, steps):\n",
    "        self.steps = steps\n",
    "        if (self.position + self.steps)<Player.MAX_POSITION:\n",
    "            self.position = self.position + self.steps\n",
    "        else:\n",
    "            self.position = Player.MAX_POSITION\n",
    "    \n",
    "\n",
    "       \n",
    "    # This method provides a rudimentary visualization in the console    \n",
    "    def draw(self):\n",
    "        drawing = \"-\" * self.position + \"|\" +\"-\"*(Player.MAX_POSITION - self.position)\n",
    "        print(drawing)\n",
    "\n",
    "p = Player(); p.draw()\n",
    "p.move(4); p.draw()\n",
    "p.move(5); p.draw()\n",
    "p.move(3); p.draw()"
   ]
  },
  {
   "cell_type": "markdown",
   "id": "d13c8579",
   "metadata": {},
   "source": [
    "### Ex: Changing class attributes\n",
    "You learned how to define class attributes and how to access them from class instances. So what will happen if you try to assign another value to a class attribute when accessing it from an instance? The answer is not as simple as you might think!\n",
    "\n",
    "The Player class from the previous exercise is pre-defined. Recall that it has a position instance attribute, and MAX_SPEED and MAX_POSITION class attributes. The initial value of MAX_SPEED is 3.\n",
    "\n",
    "- Create two Player objects p1 and p2.\n",
    "- Print p1.MAX_SPEED and p2.MAX_SPEED.\n",
    "- Assign 7 to p1.MAX_SPEED.\n",
    "- Print p1.MAX_SPEED and p2.MAX_SPEED again.\n",
    "- Print Player.MAX_SPEED.\n",
    "- Examine the output carefully.\n"
   ]
  },
  {
   "cell_type": "code",
   "execution_count": 21,
   "id": "6d49cc34",
   "metadata": {},
   "outputs": [],
   "source": [
    "class Player:\n",
    "    MAX_POSITION = 10\n",
    "    MAX_SPEED = 10\n",
    "    \n",
    "    def __init__(self):\n",
    "        self.position = 0\n",
    "\n",
    "    # Add a move() method with steps parameter\n",
    "    def move(self, steps):\n",
    "        self.steps = steps\n",
    "        if (self.position + self.steps)<Player.MAX_POSITION:\n",
    "            self.position = self.position + self.steps\n",
    "        else:\n",
    "            self.position = Player.MAX_POSITION\n",
    "    \n",
    "\n",
    "       \n",
    "    # This method provides a rudimentary visualization in the console    \n",
    "    def draw(self):\n",
    "        drawing = \"-\" * self.position + \"|\" +\"-\"*(Player.MAX_POSITION - self.position)\n",
    "        print(drawing)\n",
    "\n",
    "# p = Player(); p.draw()\n",
    "# p.move(4); p.draw()\n",
    "# p.move(5); p.draw()\n",
    "# p.move(3); p.draw()"
   ]
  },
  {
   "cell_type": "code",
   "execution_count": 22,
   "id": "38bb0c1f",
   "metadata": {},
   "outputs": [
    {
     "name": "stdout",
     "output_type": "stream",
     "text": [
      "MAX_SPEED of p1 and p2 before assignment:\n",
      "10\n",
      "10\n",
      "MAX_SPEED of p1 and p2 after assignment:\n",
      "7\n",
      "10\n",
      "MAX_SPEED of Player:\n",
      "10\n"
     ]
    }
   ],
   "source": [
    "# Create Players p1 and p2\n",
    "p1 = Player()\n",
    "p2 = Player()\n",
    "\n",
    "print(\"MAX_SPEED of p1 and p2 before assignment:\")\n",
    "# Print p1.MAX_SPEED and p2.MAX_SPEED\n",
    "print(p1.MAX_SPEED)\n",
    "print(p2.MAX_SPEED)\n",
    "\n",
    "# Assign 7 to p1.MAX_SPEED\n",
    "p1.MAX_SPEED = 7\n",
    "\n",
    "print(\"MAX_SPEED of p1 and p2 after assignment:\")\n",
    "# Print p1.MAX_SPEED and p2.MAX_SPEED\n",
    "print(p1.MAX_SPEED)\n",
    "print(p2.MAX_SPEED)\n",
    "\n",
    "print(\"MAX_SPEED of Player:\")\n",
    "# Print Player.MAX_SPEED\n",
    "print(Player.MAX_SPEED)"
   ]
  },
  {
   "cell_type": "markdown",
   "id": "183fc89a",
   "metadata": {},
   "source": [
    "### Ex : Changing class attributes\n",
    "You learned how to define class attributes and how to access them from class instances. So what will happen if you try to assign another value to a class attribute when accessing it from an instance? The answer is not as simple as you might think!\n",
    "\n",
    "The Player class from the previous exercise is pre-defined. Recall that it has a position instance attribute, and MAX_SPEED and MAX_POSITION class attributes. The initial value of MAX_SPEED is 3.\n",
    "\n",
    "Instructions 2/2\n",
    "50 XP\n",
    "- Even though MAX_SPEED is shared across instances, assigning 7 to p1.MAX_SPEED didn't change the value of MAX_SPEED in p2, or in the Player class.\n",
    "\n",
    "- So what happened? In fact, Python created a new instance attribute in p1, also called it MAX_SPEED, and assigned 7 to it, without touching the class attribute.\n",
    "\n",
    "- Now let's change the class attribute value for real.\n",
    "\n",
    "- Modify the assignment to assign 7 to Player.MAX_SPEED instead."
   ]
  },
  {
   "cell_type": "code",
   "execution_count": 23,
   "id": "fd380756",
   "metadata": {},
   "outputs": [
    {
     "name": "stdout",
     "output_type": "stream",
     "text": [
      "MAX_SPEED of p1 and p2 before assignment:\n",
      "10\n",
      "10\n",
      "MAX_SPEED of p1 and p2 after assignment:\n",
      "7\n",
      "7\n",
      "MAX_SPEED of Player:\n",
      "7\n"
     ]
    }
   ],
   "source": [
    "# Create Players p1 and p2\n",
    "p1, p2 = Player(), Player()\n",
    "\n",
    "print(\"MAX_SPEED of p1 and p2 before assignment:\")\n",
    "# Print p1.MAX_SPEED and p2.MAX_SPEED\n",
    "print(p1.MAX_SPEED)\n",
    "print(p2.MAX_SPEED)\n",
    "\n",
    "# ---MODIFY THIS LINE--- \n",
    "Player.MAX_SPEED = 7\n",
    "\n",
    "print(\"MAX_SPEED of p1 and p2 after assignment:\")\n",
    "# Print p1.MAX_SPEED and p2.MAX_SPEED\n",
    "print(p1.MAX_SPEED)\n",
    "print(p2.MAX_SPEED)\n",
    "\n",
    "print(\"MAX_SPEED of Player:\")\n",
    "# Print Player.MAX_SPEED\n",
    "print(Player.MAX_SPEED)"
   ]
  },
  {
   "cell_type": "markdown",
   "id": "mHW-6SnVGZPu",
   "metadata": {
    "id": "mHW-6SnVGZPu"
   },
   "source": [
    "## Class Methods"
   ]
  },
  {
   "cell_type": "markdown",
   "id": "7e13a2da",
   "metadata": {
    "id": "lwcqLTgKKklv"
   },
   "source": [
    "### Ex : Alternative constructors\n",
    "Python allows you to define class methods as well, using the @classmethod decorator and a special first argument cls. The main use of class methods is defining methods that return an instance of the class, but aren't using the same code as __init__().\n",
    "\n",
    "For example, you are developing a time series package and want to define your own class for working with dates, BetterDate. The attributes of the class will be year, month, and day. You want to have a constructor that creates BetterDate objects given the values for year, month, and day, but you also want to be able to create BetterDate objects from strings like 2020-04-30.\n",
    "\n",
    "You might find the following functions useful:\n",
    "\n",
    "- .split(\"-\") method will split a string at\"-\" into an array, e.g. \"2020-04-30\".split(\"-\") returns [\"2020\", \"04\", \"30\"],\n",
    "- int() will convert a string into a number, e.g. int(\"2019\") is 2019 .\n",
    "\n",
    "Instructions 1/2 50 XP\n",
    "- Add a class method from_str() that:\n",
    "    - accepts a string datestr of the format'YYYY-MM-DD',\n",
    "    - splits datestr and converts each part into an integer,\n",
    "    - returns an instance of the class with the attributes set to the values extracted from datestr."
   ]
  },
  {
   "cell_type": "code",
   "execution_count": 24,
   "id": "f52f6c03",
   "metadata": {},
   "outputs": [
    {
     "name": "stdout",
     "output_type": "stream",
     "text": [
      "2020\n",
      "4\n",
      "30\n"
     ]
    }
   ],
   "source": [
    "class BetterDate:    \n",
    "    # Constructor\n",
    "    def __init__(self, year, month, day):\n",
    "      # Recall that Python allows multiple variable assignments in one line\n",
    "      self.year, self.month, self.day = year, month, day\n",
    "    \n",
    "    # Define a class method from_str\n",
    "    @classmethod\n",
    "    def from_str(cls, datestr):\n",
    "        # Split the string at \"-\" and convert each part to integer\n",
    "        parts = datestr.split(\"-\")\n",
    "        year, month, day = int(parts[0]), int(parts[1]), int(parts[2])\n",
    "        # Return the class instance\n",
    "        return cls(year, month, day)\n",
    "        \n",
    "bd = BetterDate.from_str('2020-04-30')   \n",
    "print(bd.year)\n",
    "print(bd.month)\n",
    "print(bd.day)"
   ]
  },
  {
   "cell_type": "markdown",
   "id": "312135ec",
   "metadata": {},
   "source": [
    "### Ex: Part 2\n",
    "For compatibility, you also want to be able to convert a datetime object into a BetterDate object.\n",
    "\n",
    "- Add a class method from_datetime() that accepts a datetime object as the argument, and uses its attributes .year, .month and .day to create a BetterDate object with the same attribute values."
   ]
  },
  {
   "cell_type": "code",
   "execution_count": 25,
   "id": "e3d6d155",
   "metadata": {},
   "outputs": [
    {
     "name": "stdout",
     "output_type": "stream",
     "text": [
      "2021\n",
      "8\n",
      "15\n"
     ]
    }
   ],
   "source": [
    "# import datetime from datetime\n",
    "from datetime import datetime\n",
    "\n",
    "class BetterDate:\n",
    "    def __init__(self, year, month, day):\n",
    "      self.year, self.month, self.day = year, month, day\n",
    "      \n",
    "    @classmethod\n",
    "    def from_str(cls, datestr):\n",
    "        year, month, day = map(int, datestr.split(\"-\"))\n",
    "        return cls(year, month, day)\n",
    "      \n",
    "    # Define a class method from_datetime accepting a datetime object\n",
    "    @classmethod\n",
    "    def from_datetime(cls, dateobj):\n",
    "      year, month, day = dateobj.year, dateobj.month, dateobj.day\n",
    "      return cls(year, month, day) \n",
    "\n",
    "\n",
    "# You should be able to run the code below with no errors: \n",
    "today = datetime.today()     \n",
    "bd = BetterDate.from_datetime(today)   \n",
    "print(bd.year)\n",
    "print(bd.month)\n",
    "print(bd.day)"
   ]
  },
  {
   "cell_type": "markdown",
   "id": "81b18909",
   "metadata": {},
   "source": [
    "## Core Principles of OOP\n",
    "\n",
    "### Inheritance\n",
    "- Extending functionality of existing code\n",
    "- This allows code reuse\n",
    "- Examples : In case of a website features like, submit, radio, dropdown etc. are available as a GUI Element, with two key functionalities -- draw() and click()\n",
    "- New class functionality = Old class functionalityy + Extra\n",
    "##### Class Parent - Child example\n",
    "    class MyChild(MyParent):\n",
    "        ## Add in extra functionalities if you need\n",
    "        pass\n",
    "\n",
    "    - MyParent : class whose functionality is being extended/inherited\n",
    "    - MyChild: class that will inherit the functionality and add more\n",
    "\n",
    "##### Inheritance: \"is-a\" relationship\n",
    "- A MyChild is a MyParent\n",
    "\n",
    "\n",
    "### Polymorphism\n",
    "- Creating a unified instance\n",
    "\n",
    "### Encapsulation\n",
    "- Bundling of data and methods"
   ]
  },
  {
   "cell_type": "code",
   "execution_count": 26,
   "id": "7571fb0f",
   "metadata": {},
   "outputs": [
    {
     "name": "stdout",
     "output_type": "stream",
     "text": [
      "Balance of account 1000\n",
      "Balance after withdrawal 700\n"
     ]
    }
   ],
   "source": [
    "class BankAccount:\n",
    "    def __init__(self,balance):\n",
    "        self.balance = balance\n",
    "    \n",
    "    def withdraw(self, amount):\n",
    "        self.balance = self.balance - amount\n",
    "\n",
    "## Empty class inherited from BankAccount\n",
    "class SavingsAccount(BankAccount):\n",
    "    pass\n",
    "\n",
    "##Constructor inherited from BankAccount\n",
    "sav_acc = SavingsAccount(1000)\n",
    "type(sav_acc)\n",
    "\n",
    "##Attribute inherited from BankAccount\n",
    "print(\"Balance of account\",sav_acc.balance)\n",
    "\n",
    "##Method inherited from BankAccount\n",
    "sav_acc.withdraw(300)\n",
    "print(\"Balance after withdrawal\",sav_acc.balance)"
   ]
  },
  {
   "cell_type": "markdown",
   "id": "83866f2b",
   "metadata": {},
   "source": [
    "## Inheritance : \"is-a\" relationship\n",
    "\n",
    "A **SavingsAccount** is a **BankAccount**"
   ]
  },
  {
   "cell_type": "code",
   "execution_count": 27,
   "id": "bf681199",
   "metadata": {},
   "outputs": [
    {
     "name": "stdout",
     "output_type": "stream",
     "text": [
      "True\n",
      "False\n",
      "True\n",
      "True\n"
     ]
    }
   ],
   "source": [
    "acct = BankAccount(5000)\n",
    "\n",
    "print(isinstance(acct, BankAccount))\n",
    "print(isinstance(acct, SavingsAccount))\n",
    "\n",
    "sav_acc = SavingsAccount(1000)\n",
    "\n",
    "print(isinstance(sav_acc, BankAccount))\n",
    "print(isinstance(sav_acc, SavingsAccount))\n"
   ]
  },
  {
   "cell_type": "markdown",
   "id": "3f02078d",
   "metadata": {},
   "source": [
    "### Ex : Create a subclass\n",
    "The purpose of child classes -- or sub-classes, as they are usually called - is to customize and extend functionality of the parent class.\n",
    "\n",
    "Recall the Employee class from earlier in the course. In most organizations, managers enjoy more privileges and more responsibilities than a regular employee. So it would make sense to introduce a Manager class that has more functionality than Employee.\n",
    "\n",
    "But a Manager is still an employee, so the Manager class should be inherited from the Employee class.\n",
    "\n",
    "\n",
    "- Add an empty Manager class that is inherited from Employee.\n",
    "- Create an object mng of the Manager class with the name Debbie Lashko and salary 86500.\n",
    "- Print the name of mng.\n"
   ]
  },
  {
   "cell_type": "code",
   "execution_count": 28,
   "id": "7593795b",
   "metadata": {},
   "outputs": [
    {
     "name": "stdout",
     "output_type": "stream",
     "text": [
      "Debbie Lashko\n"
     ]
    }
   ],
   "source": [
    "class Employee:\n",
    "  MIN_SALARY = 30000    \n",
    "\n",
    "  def __init__(self, name, salary=MIN_SALARY):\n",
    "      self.name = name\n",
    "      if salary >= Employee.MIN_SALARY:\n",
    "        self.salary = salary\n",
    "      else:\n",
    "        self.salary = Employee.MIN_SALARY\n",
    "        \n",
    "  def give_raise(self, amount):\n",
    "      self.salary += amount      \n",
    "        \n",
    "# Define a new class Manager inheriting from Employee\n",
    "class Manager(Employee):\n",
    "  pass\n",
    "\n",
    "# Define a Manager object\n",
    "mng = Manager('Debbie Lashko',86500)\n",
    "\n",
    "# Print mng's name\n",
    "print(mng.name)"
   ]
  },
  {
   "cell_type": "markdown",
   "id": "233ccd67",
   "metadata": {},
   "source": [
    "### Ex: Part 2\n",
    "\n",
    "- Remove the pass statement and add a display() method to the Manager class that just prints the string \"Manager\" followed by the full name, e.g. \"Manager Katie Flatcher\"\n",
    "- Call the .display()method from the mnginstance.\n"
   ]
  },
  {
   "cell_type": "code",
   "execution_count": 29,
   "id": "77a0913c",
   "metadata": {},
   "outputs": [
    {
     "name": "stdout",
     "output_type": "stream",
     "text": [
      "Debbie Lashko\n",
      "Manager Debbie Lashko\n"
     ]
    }
   ],
   "source": [
    "class Employee:\n",
    "  MIN_SALARY = 30000    \n",
    "\n",
    "  def __init__(self, name, salary=MIN_SALARY):\n",
    "      self.name = name\n",
    "      if salary >= Employee.MIN_SALARY:\n",
    "        self.salary = salary\n",
    "      else:\n",
    "        self.salary = Employee.MIN_SALARY\n",
    "  def give_raise(self, amount):\n",
    "    self.salary += amount      \n",
    "        \n",
    "# MODIFY Manager class and add a display method\n",
    "class Manager(Employee):\n",
    "  def display(self):\n",
    "    print(\"Manager\",self.name)\n",
    "\n",
    "  \n",
    "\n",
    "mng = Manager(\"Debbie Lashko\", 86500)\n",
    "print(mng.name)\n",
    "\n",
    "# Call mng.display()\n",
    "mng.display()"
   ]
  },
  {
   "cell_type": "markdown",
   "id": "477f53f3",
   "metadata": {},
   "source": [
    "### Ex: Inheritance of class attributes\n",
    "In the beginning of this chapter, you learned about class attributes and methods that are shared among all the instances of a class. How do they work with inheritance?\n",
    "\n",
    "In this exercise, you'll create subclasses of the Player class from the first lesson of the chapter, and explore the inheritance of class attributes and methods.\n",
    "\n",
    "The Player class has been defined for you. Recall that the Player class had two class-level attributes: MAX_POSITION and MAX_SPEED, with default values 10 and 3.\n",
    "\n",
    "- Create a class Racer inherited from Player,\n",
    "- Assign 5 to MAX_SPEED in the body of the class.\n",
    "- Create a Player object p and a Racer object r (no arguments needed for the constructor).\n"
   ]
  },
  {
   "cell_type": "code",
   "execution_count": 30,
   "id": "3084f119",
   "metadata": {},
   "outputs": [
    {
     "name": "stdout",
     "output_type": "stream",
     "text": [
      "p.MAX_SPEED =  7\n",
      "r.MAX_SPEED =  5\n",
      "p.MAX_POSITION =  10\n",
      "r.MAX_POSITION =  10\n"
     ]
    }
   ],
   "source": [
    "# Create a Racer class and set MAX_SPEED to 5\n",
    "class Racer(Player):\n",
    "    MAX_SPEED = 5\n",
    " \n",
    "# Create a Player and a Racer objects\n",
    "p = Player()\n",
    "r = Racer()\n",
    "\n",
    "print(\"p.MAX_SPEED = \", p.MAX_SPEED)\n",
    "print(\"r.MAX_SPEED = \", r.MAX_SPEED)\n",
    "\n",
    "print(\"p.MAX_POSITION = \", p.MAX_POSITION)\n",
    "print(\"r.MAX_POSITION = \", r.MAX_POSITION)"
   ]
  },
  {
   "cell_type": "markdown",
   "id": "7243fb2c",
   "metadata": {},
   "source": [
    "##### Class attributes CAN be inherited, and the value of class attributes CAN be overwritten in the child class"
   ]
  },
  {
   "cell_type": "markdown",
   "id": "17178a4d",
   "metadata": {},
   "source": [
    "### Ex: Customizing a DataFrame\n",
    "In your company, any data has to come with a timestamp recording when the dataset was created, to make sure that outdated information is not being used. You would like to use pandas DataFrames for processing data, but you would need to customize the class to allow for the use of timestamps.\n",
    "\n",
    "In this exercise, you will implement a small LoggedDF class that inherits from a regular pandas DataFrame but has a created_at attribute storing the timestamp. You will then augment the standard to_csv() method to always include a column storing the creation date.\n",
    "\n",
    "Tip: all DataFrame methods have many parameters, and it is not sustainable to copy all of them for each method you're customizing. The trick is to use variable-length arguments *args and **kwargsto catch all of them.\n",
    "\n",
    "\n",
    "- Import pandas as pd.\n",
    "- Define LoggedDF class inherited from pd.DataFrame.\n",
    "- Define a constructor with arguments *args and **kwargs that:\n",
    "- calls the pd.DataFrame constructor with the same arguments,\n",
    "- assigns datetime.today() to self.created_at."
   ]
  },
  {
   "cell_type": "code",
   "execution_count": 31,
   "id": "b49e89c7",
   "metadata": {},
   "outputs": [
    {
     "name": "stdout",
     "output_type": "stream",
     "text": [
      "[[1 3]\n",
      " [2 4]]\n",
      "2021-08-15 11:21:32.622698\n"
     ]
    }
   ],
   "source": [
    "# Import pandas as pd\n",
    "import pandas as pd\n",
    "\n",
    "# Define LoggedDF inherited from pd.DataFrame and add the constructor\n",
    "class LoggedDF(pd.DataFrame):\n",
    "  \n",
    "  def __init__(self, *args, **kwargs):\n",
    "    pd.DataFrame.__init__(self, *args, **kwargs)\n",
    "    self.created_at = datetime.today()\n",
    "    \n",
    "    \n",
    "ldf = LoggedDF({\"col1\": [1,2], \"col2\": [3,4]})\n",
    "print(ldf.values)\n",
    "print(ldf.created_at)"
   ]
  },
  {
   "cell_type": "markdown",
   "id": "b65c68ba",
   "metadata": {},
   "source": [
    "### Ex : Part 2\n",
    "\n",
    "- Add a to_csv() method to LoggedDF that:\n",
    "- copies self to a temporary DataFrame using .copy(),\n",
    "- creates a new column created_at in the temporary DataFrame and fills it with self.created_at\n",
    "- calls pd.DataFrame.to_csv() on the temporary variable."
   ]
  },
  {
   "cell_type": "code",
   "execution_count": 32,
   "id": "8eaf8cc5",
   "metadata": {},
   "outputs": [],
   "source": [
    "# Import pandas as pd\n",
    "import pandas as pd\n",
    "\n",
    "# Define LoggedDF inherited from pd.DataFrame and add the constructor\n",
    "class LoggedDF(pd.DataFrame):\n",
    "  \n",
    "  def __init__(self, *args, **kwargs):\n",
    "    pd.DataFrame.__init__(self, *args, **kwargs)\n",
    "    self.created_at = datetime.today()\n",
    "    \n",
    "  def to_csv(self, *args, **kwargs):\n",
    "    # Copy self to a temporary DataFrame\n",
    "    temp = self.copy()\n",
    "    \n",
    "    # Create a new column filled with self.created_at\n",
    "    temp[\"created_at\"] = self.created_at\n",
    "    \n",
    "    # Call pd.DataFrame.to_csv on temp, passing in *args and **kwargs\n",
    "    pd.DataFrame.to_csv(temp, *args, **kwargs)"
   ]
  },
  {
   "cell_type": "code",
   "execution_count": 33,
   "id": "16bc5994",
   "metadata": {},
   "outputs": [],
   "source": [
    "## Operator Overloading Comparison\n"
   ]
  },
  {
   "cell_type": "code",
   "execution_count": 34,
   "id": "70132b8c",
   "metadata": {},
   "outputs": [
    {
     "name": "stdout",
     "output_type": "stream",
     "text": [
      "False\n"
     ]
    }
   ],
   "source": [
    "class Customer:\n",
    "    def __init__(self, name, balance, id):\n",
    "        self.name, self.balance = name, balance\n",
    "        self.id = id\n",
    "\n",
    "customer1 = Customer(\"Maryam\", 3000,123)\n",
    "customer2 = Customer(\"Maryam\", 3000,123)\n",
    "\n",
    "print(customer1 == customer2)"
   ]
  },
  {
   "cell_type": "code",
   "execution_count": 35,
   "id": "1e5a8621",
   "metadata": {},
   "outputs": [
    {
     "name": "stdout",
     "output_type": "stream",
     "text": [
      "<__main__.Customer object at 0x000001F45A2BDEE0>\n"
     ]
    }
   ],
   "source": [
    "print(customer1)"
   ]
  },
  {
   "cell_type": "code",
   "execution_count": 36,
   "id": "7edf639d",
   "metadata": {},
   "outputs": [
    {
     "name": "stdout",
     "output_type": "stream",
     "text": [
      "<__main__.Customer object at 0x000001F45A2D3DF0>\n"
     ]
    }
   ],
   "source": [
    "print(customer2)"
   ]
  },
  {
   "cell_type": "markdown",
   "id": "dcfa4aaf",
   "metadata": {},
   "source": [
    "##### We'll see \"Customer at\" and a string (which is actually a number in hexadecimal). \n",
    "\n",
    "##### Behind the scenes, when an object is created, Python allocates a chunk of memory to that object, and the variable that the object is assigned to actually contains just the reference to the memory chunk. \n",
    "\n",
    "##### In this code, we tell Python: allocate a chunk of memory for a customer object, and label it customer1. Then, allocate another chunk, and label it customer2. When we compare variables customer1 and customer2, we are actually comparing references, not the data. Because customer1 and customer2 point to different chunks in memory, they are not considered equal."
   ]
  },
  {
   "cell_type": "markdown",
   "id": "85fc3d30",
   "metadata": {},
   "source": [
    "### Numpy Arrays Example"
   ]
  },
  {
   "cell_type": "code",
   "execution_count": 37,
   "id": "605dbcf6",
   "metadata": {},
   "outputs": [
    {
     "name": "stdout",
     "output_type": "stream",
     "text": [
      "[ True  True  True]\n"
     ]
    }
   ],
   "source": [
    "import numpy as np\n",
    "\n",
    "## Two different arrays containing the same data\n",
    "\n",
    "array1 = np.array([1,2,3])\n",
    "array2 = np.array([1,2,3])\n",
    "\n",
    "print(array1 == array2)"
   ]
  },
  {
   "cell_type": "markdown",
   "id": "21d2c0b8",
   "metadata": {},
   "source": [
    "### Custom Comparison\n",
    "\n",
    "- /*__eq__()*/ is called when two objects of a class are being compared using ==\n",
    "- accepts two arguments, self and other - objects to compare\n",
    "- returns a boolean values\n",
    "\n",
    "### Other Comparison Operators\n",
    "\n",
    "| Operator | Method | Description |\n",
    "| --- | --- | --- |\n",
    "| == | __eq__() | Equality Comparison |\n",
    "| != | __ne__() | Not Equal to Comparison |\n",
    "| >= | __ge__() | Greater than equal to Comparison |\n",
    "| <= | __le__() | Less than equal to Comparison |\n",
    "| > | __gt__() | Greater than Comparison |\n",
    "| < | __lt__() | Less than Comparison |"
   ]
  },
  {
   "cell_type": "code",
   "execution_count": 38,
   "id": "c11ea2f9",
   "metadata": {},
   "outputs": [
    {
     "name": "stdout",
     "output_type": "stream",
     "text": [
      "__eq__is called\n",
      "True\n"
     ]
    }
   ],
   "source": [
    "class Customer:\n",
    "    def __init__(self, id, name):\n",
    "        self.id, self.name = id,name\n",
    "    def __eq__(self, other):\n",
    "        print(\"__eq__is called\")\n",
    "        return ((self.id == other.id) and (self.name == other.name))\n",
    "    \n",
    "customer1 = Customer(123,\"Maryam\")\n",
    "customer2 = Customer(123,\"Maryam\")\n",
    "\n",
    "print(customer1 == customer2)"
   ]
  },
  {
   "cell_type": "markdown",
   "id": "44a2c217",
   "metadata": {},
   "source": [
    "### Ex : Overloading equality\n",
    "When comparing two objects of a custom class using ==, Python by default compares just the object references, not the data contained in the objects. To override this behavior, the class can implement the special __eq__() method, which accepts two arguments -- the objects to be compared -- and returns True or False. This method will be implicitly called when two objects are compared.\n",
    "\n",
    "The BankAccount class from the previous chapter is available for you in the script pane. It has one attribute, balance, and a withdraw() method. Two bank accounts with the same balance are not necessarily the same account, but a bank account usually has an account number, and two accounts with the same account number should be considered the same.\n",
    "\n",
    "Instructions\n",
    "100 XP\n",
    "Try selecting the code in lines 1-7 and pressing the \"Run code\" button. Then try to create a few BankAccount objects in the console and compare them.\n",
    "\n",
    "- Modify the __init__() method to accept a new parameter - number - and initialize a new number attribute.\n",
    "- Define an __eq__() method that returns True if the number attribute of two objects is equal.\n",
    "- Examine the print statements and the output in the console."
   ]
  },
  {
   "cell_type": "code",
   "execution_count": 39,
   "id": "3aff023f",
   "metadata": {},
   "outputs": [
    {
     "name": "stdout",
     "output_type": "stream",
     "text": [
      "True\n",
      "False\n"
     ]
    }
   ],
   "source": [
    "class BankAccount:\n",
    "   # MODIFY to initialize a number attribute\n",
    "    def __init__(self, number,balance=0):\n",
    "        self.balance = balance\n",
    "        self.number = number\n",
    "      \n",
    "    def withdraw(self, amount):\n",
    "        self.balance -= amount \n",
    "    \n",
    "    # Define __eq__ that returns True if the number attributes are equal \n",
    "    def __eq__(self, other):\n",
    "        return (self.number==other.number)\n",
    "\n",
    "# Create accounts and compare them       \n",
    "acct1 = BankAccount(123, 1000)\n",
    "acct2 = BankAccount(123, 1000)\n",
    "acct3 = BankAccount(456, 1000)\n",
    "print(acct1 == acct2)\n",
    "print(acct1 == acct3)"
   ]
  },
  {
   "cell_type": "markdown",
   "id": "da96e58f",
   "metadata": {},
   "source": [
    "### Ex: Checking class equality\n",
    "In the previous exercise, you defined a BankAccount class with a number attribute that was used for comparison. But if you were to compare a BankAccount object to an object of another class that also has a number attribute, you could end up with unexpected results.\n",
    "\n",
    "For example, consider two classes\n",
    "\n",
    "Both the Phone and the BankAccount classes have been defined. Try running the code as-is using the \"Run code\" button and examine the output.\n",
    "\n",
    "Running acct == pn will return True, even though we're comparing a phone number with a bank account number.\n",
    "\n",
    "It is good practice to check the class of objects passed to the __eq__() method to make sure the comparison makes sense.\n",
    "\n",
    "- Modify the definition of BankAccount to only return True if the number attribute is the same and the type() of both objects passed to it is the same.\n",
    "- Run the code and examine the output again."
   ]
  },
  {
   "cell_type": "code",
   "execution_count": 40,
   "id": "4490a0ea",
   "metadata": {},
   "outputs": [
    {
     "name": "stdout",
     "output_type": "stream",
     "text": [
      "True\n"
     ]
    }
   ],
   "source": [
    "class Phone:\n",
    "  def __init__(self, number):\n",
    "     self.number = number\n",
    "\n",
    "  def __eq__(self, other):\n",
    "    return self.number == \\\n",
    "          other.number\n",
    "\n",
    "pn = Phone(873555333)\n",
    "\n",
    "\n",
    "class BankAccount:\n",
    "  def __init__(self, number):\n",
    "     self.number = number\n",
    "\n",
    "  def __eq__(self, other):\n",
    "    return self.number == \\\n",
    "           other.number\n",
    "\n",
    "acct = BankAccount(873555333)\n",
    "\n",
    "\n",
    "class BankAccount:\n",
    "    def __init__(self, number, balance=0):\n",
    "        self.number, self.balance = number, balance\n",
    "      \n",
    "    def withdraw(self, amount):\n",
    "        self.balance -= amount \n",
    "\n",
    "    # MODIFY to add a check for the type()\n",
    "    def __eq__(self, other):\n",
    "        return (self.number == other.number)\n",
    "\n",
    "acct = BankAccount(873555333)\n",
    "pn = Phone(873555333)\n",
    "print(acct == pn)"
   ]
  },
  {
   "cell_type": "markdown",
   "id": "98b940eb",
   "metadata": {},
   "source": [
    "##### Solution"
   ]
  },
  {
   "cell_type": "code",
   "execution_count": 41,
   "id": "2a938677",
   "metadata": {},
   "outputs": [
    {
     "name": "stdout",
     "output_type": "stream",
     "text": [
      "False\n"
     ]
    }
   ],
   "source": [
    "class BankAccount:\n",
    "    def __init__(self, number, balance=0):\n",
    "        self.number, self.balance = number, balance\n",
    "      \n",
    "    def withdraw(self, amount):\n",
    "        self.balance -= amount \n",
    "\n",
    "    # MODIFY to add a check for the type()\n",
    "    def __eq__(self, other):\n",
    "        return (self.number == other.number) and (type(self) == type(other))\n",
    "\n",
    "acct = BankAccount(873555333)\n",
    "pn = Phone(873555333)\n",
    "print(acct == pn)"
   ]
  },
  {
   "cell_type": "markdown",
   "id": "8782e429",
   "metadata": {},
   "source": [
    "##### Perfect! Now only comparing objects of the same class BankAccount could return True. \n",
    "\n",
    "##### Another way to ensure that an object has the same type as you expect is to use the isinstance(obj, Class) function. \n",
    "\n",
    "##### This can helpful when handling inheritance, as Python considers an object to be an instance of both the parent and the child class. \n",
    "\n",
    "##### Try running pn == acct in the console (with reversed order of equality). What does this tell you about the __eq__() method?"
   ]
  },
  {
   "cell_type": "markdown",
   "id": "f4ff8e94",
   "metadata": {},
   "source": [
    "### Ex : Comparison and inheritance\n",
    "\n",
    "What happens when an object is compared to an object of a child class? Consider the following two classes:"
   ]
  },
  {
   "cell_type": "code",
   "execution_count": 42,
   "id": "1751b788",
   "metadata": {},
   "outputs": [],
   "source": [
    "class Parent:\n",
    "    def __eq__(self, other):\n",
    "        print(\"Parent's __eq__() called\")\n",
    "        return True\n",
    "\n",
    "class Child(Parent):\n",
    "    def __eq__(self, other):\n",
    "        print(\"Child's __eq__() called\")\n",
    "        return True"
   ]
  },
  {
   "cell_type": "markdown",
   "id": "8a87b4dc",
   "metadata": {},
   "source": [
    "##### The Child class inherits from the Parent class, and both implement the __eq__() method that includes a diagnostic printout."
   ]
  },
  {
   "cell_type": "code",
   "execution_count": 43,
   "id": "31fa7dc2",
   "metadata": {},
   "outputs": [
    {
     "name": "stdout",
     "output_type": "stream",
     "text": [
      "Child's __eq__() called\n"
     ]
    },
    {
     "data": {
      "text/plain": [
       "True"
      ]
     },
     "execution_count": 43,
     "metadata": {},
     "output_type": "execute_result"
    }
   ],
   "source": [
    "p = Parent()\n",
    "c = Child()\n",
    "\n",
    "p == c"
   ]
  },
  {
   "cell_type": "markdown",
   "id": "20cee31f",
   "metadata": {},
   "source": [
    "#### Python always calls the child's __eq__() method when comparing a child object to a parent object."
   ]
  },
  {
   "cell_type": "markdown",
   "id": "9edb7f36",
   "metadata": {},
   "source": [
    "## Operator Overloading : String & Representations\n",
    "\n",
    "\"__str__()\"\n",
    "\n",
    "- Informal, meant for end user\n",
    "- string representation"
   ]
  },
  {
   "cell_type": "markdown",
   "id": "b326e282",
   "metadata": {},
   "source": [
    "### More information on str()"
   ]
  },
  {
   "cell_type": "code",
   "execution_count": null,
   "id": "5e05470a",
   "metadata": {},
   "outputs": [],
   "source": [
    "##Exmaple : __str__()\n",
    "\n",
    "print(np.array([1,2,3]))\n",
    "\n",
    "str(np.array([1,2,3]))"
   ]
  },
  {
   "cell_type": "markdown",
   "id": "40e5f7f0",
   "metadata": {},
   "source": [
    "### str() Implementation"
   ]
  },
  {
   "cell_type": "code",
   "execution_count": 46,
   "id": "b6a87b28",
   "metadata": {},
   "outputs": [
    {
     "name": "stdout",
     "output_type": "stream",
     "text": [
      "\n",
      "        Customer :\n",
      "        name: Maryam Azar\n",
      "        balance: 3000\n",
      "        \n"
     ]
    }
   ],
   "source": [
    "class Customer:\n",
    "    def __init__(self, name, balance):\n",
    "        self.name, self.balance = name, balance\n",
    "        \n",
    "    def __str__(self):\n",
    "        ### Triple Qoutes in python are used to define multi-line strings\n",
    "        ### Format method is used on strings to substitue valules onside curly brackets with variables\n",
    "        cust_str = \"\"\"\n",
    "        Customer :\n",
    "        name: {name}\n",
    "        balance: {balance}\n",
    "        \"\"\".format(name = self.name, \\\n",
    "                  balance = self.balance)\n",
    "        return cust_str\n",
    "    \n",
    "cust = Customer(\"Maryam Azar\", 3000)\n",
    "\n",
    "## Will implicitly call it\n",
    "print(cust)"
   ]
  },
  {
   "cell_type": "code",
   "execution_count": 48,
   "id": "1803a931",
   "metadata": {},
   "outputs": [
    {
     "name": "stdout",
     "output_type": "stream",
     "text": [
      "\n",
      "        Customer :\n",
      "        name: Maryam Azar\n",
      "        balance: 3000\n",
      "        \n"
     ]
    }
   ],
   "source": [
    "print(str(cust))"
   ]
  },
  {
   "cell_type": "markdown",
   "id": "db7db428",
   "metadata": {},
   "source": [
    "### \"__repr()__\"\n",
    "- Formal, for developer\n",
    "- Reproducible representation\n",
    "- Used as a fallback for print when str() is not defined"
   ]
  },
  {
   "cell_type": "markdown",
   "id": "ee3aa2cb",
   "metadata": {},
   "source": [
    "### More Information on repr()"
   ]
  },
  {
   "cell_type": "code",
   "execution_count": 50,
   "id": "6672c4ea",
   "metadata": {},
   "outputs": [
    {
     "data": {
      "text/plain": [
       "array([1, 2, 3])"
      ]
     },
     "execution_count": 50,
     "metadata": {},
     "output_type": "execute_result"
    }
   ],
   "source": [
    "##Exmaple : __str__()\n",
    "\n",
    "repr(np.array([1,2,3]))\n",
    "\n",
    "np.array([1,2,3])"
   ]
  },
  {
   "cell_type": "markdown",
   "id": "f49e1a56",
   "metadata": {},
   "source": [
    "## repr() Implementation"
   ]
  },
  {
   "cell_type": "code",
   "execution_count": 53,
   "id": "eab280c6",
   "metadata": {},
   "outputs": [
    {
     "name": "stdout",
     "output_type": "stream",
     "text": [
      "Customer('Maryam Azar',3000)\n"
     ]
    }
   ],
   "source": [
    "class Customer:\n",
    "    def __init__(self, name, balance):\n",
    "        self.name, self.balance = name, balance\n",
    "        \n",
    "    def __repr__(self):\n",
    "        ## Notice the '..' around name\n",
    "        return \"Customer('{name}',{balance})\".format(name = self.name, balance = self.balance)\n",
    "    \n",
    "cust = Customer(\"Maryam Azar\", 3000)\n",
    "\n",
    "## Will implicitly call it\n",
    "print(cust)"
   ]
  },
  {
   "cell_type": "markdown",
   "id": "679b4ab2",
   "metadata": {},
   "source": [
    "##### Notice the single quotes around the name in the return statement. \n",
    "###### Without the quotes, the name of the customer would be substituted into the string as-is, but the point of repr is to give the exact call needed to reproduce the the object, where the name should be in quotes. Notice also that we can use single quotes inside double quotes and vice versa."
   ]
  },
  {
   "cell_type": "markdown",
   "id": "eeb75641",
   "metadata": {},
   "source": [
    "## String formatting review\n",
    "\n",
    "Pick the definition of f that will make the code above print exactly the following:\n",
    "\n",
    "    my_num is 5, and my_str is \"Hello\".\n",
    "\n",
    "There is only one correct answer! Feel free to use the script pane or console to experiment."
   ]
  },
  {
   "cell_type": "code",
   "execution_count": 56,
   "id": "09f5ed81",
   "metadata": {},
   "outputs": [
    {
     "name": "stdout",
     "output_type": "stream",
     "text": [
      "my_num is 5, and my_str is Hello.\n",
      "my_num is 5, and my_str is \"Hello\".\n",
      "my_num is 5, and my_str is 'Hello'.\n",
      "my_num is 5, and my_str is 'Hello'.\n"
     ]
    }
   ],
   "source": [
    "my_num = 5\n",
    "my_str = \"Hello\"\n",
    "\n",
    "\n",
    "f = \"my_num is {0}, and my_str is {1}.\".format(my_num, my_str)\n",
    " \n",
    "print(f)\n",
    "\n",
    "f = \"my_num is {}, and my_str is \\\"{}\\\".\".format(my_num, my_str)\n",
    "\n",
    "print(f)\n",
    "\n",
    "\n",
    "f = \"my_num is {n}, and my_str is '{s}'.\".format(n=my_num, s=my_str)\n",
    "\n",
    "print(f)\n",
    "\n",
    "#f = \"my_num is {my_num}, and my_str is '{my_str}'.\".format()\n",
    "\n",
    "print(f)"
   ]
  },
  {
   "cell_type": "markdown",
   "id": "776ed097",
   "metadata": {},
   "source": [
    "Great work! To recap: to format a string with variables, you can either use keyword arguments in .format ('Insert {n} here'.format(n=num)), refer to them by position index explicitly (like 'Insert {0} here'.format(num)) or implicitly (like 'Insert {} here'.format(num)). \n",
    "\n",
    "You can use double quotation marks inside single quotation marks and the way around, but to nest the same set of quotation marks, you need to escape them with a slash like \\\"."
   ]
  },
  {
   "cell_type": "markdown",
   "id": "f0a60dfe",
   "metadata": {},
   "source": [
    "### Ex: String representation of objects\n",
    "There are two special methods in Python that return a string representation of an object. __str__() is called when you use print() or str() on an object, and __repr__() is called when you use repr() on an object, print the object in the console without calling print(), or instead of __str__() if __str__() is not defined.\n",
    "\n",
    "__str__() is supposed to provide a \"user-friendly\" output describing an object, and __repr__() should return the expression that, when evaluated, will return the same object, ensuring the reproducibility of your code.\n",
    "\n",
    "In this exercise, you will continue working with the Employee class from Chapter 2.\n",
    "\n",
    "Instructions 1/2\n",
    "50 XP\n",
    "- Add the __str__() method to Employee that satisfies the following:\n",
    "\n",
    "- If emp is an Employee object with name \"Amar Howard\" and salary of 40000, then print(emp) outputs\n",
    "\n",
    "    Employee name: Amar Howard\n",
    "    Employee salary: 40000"
   ]
  },
  {
   "cell_type": "code",
   "execution_count": 57,
   "id": "f9a81a3f",
   "metadata": {},
   "outputs": [
    {
     "name": "stdout",
     "output_type": "stream",
     "text": [
      "\n",
      "        Employee:\n",
      "        Employee name: Amar Howard\n",
      "        Employee salary: 30000\n",
      "        \n",
      "\n",
      "        Employee:\n",
      "        Employee name: Carolyn Ramirez\n",
      "        Employee salary: 35000\n",
      "        \n"
     ]
    }
   ],
   "source": [
    "class Employee:\n",
    "    def __init__(self, name, salary=30000):\n",
    "        self.name, self.salary = name, salary\n",
    "            \n",
    "    # Add the __str__() method\n",
    "    def __str__(self):\n",
    "        emp_str = \"\"\"\n",
    "        Employee:\n",
    "        Employee name: {name}\n",
    "        Employee salary: {salary}\n",
    "        \"\"\".format(name = self.name,\\\n",
    "                    salary = self.salary)\n",
    "        return emp_str\n",
    "\n",
    "emp1 = Employee(\"Amar Howard\", 30000)\n",
    "print(emp1)\n",
    "emp2 = Employee(\"Carolyn Ramirez\", 35000)\n",
    "print(emp2)"
   ]
  },
  {
   "cell_type": "markdown",
   "id": "c7fe4378",
   "metadata": {},
   "source": [
    "### Ex: Part 2\n",
    "\n",
    "- Add the __repr__() method to Employee that satisfies the following:\n",
    "\n",
    "- If emp is an Employee object with name \"Amar Howard\" and salary of 40000, then repr(emp) outputs\n",
    "    Employee(\"Amar Howard\", 40000)"
   ]
  },
  {
   "cell_type": "code",
   "execution_count": 58,
   "id": "dc8289f1",
   "metadata": {},
   "outputs": [
    {
     "name": "stdout",
     "output_type": "stream",
     "text": [
      "Employee('Amar Howard',30000)\n",
      "Employee('Carolyn Ramirez',35000)\n"
     ]
    }
   ],
   "source": [
    "class Employee:\n",
    "    def __init__(self, name, salary=30000):\n",
    "        self.name, self.salary = name, salary\n",
    "      \n",
    "\n",
    "    def __str__(self):\n",
    "        s = \"Employee name: {name}\\nEmployee salary: {salary}\".format(name=self.name, salary=self.salary)      \n",
    "        return s\n",
    "      \n",
    "    # Add the __repr__method  \n",
    "    def __repr__(self):\n",
    "        return \"Employee('{name}',{salary})\".format(name = self.name, salary = self.salary)   \n",
    "\n",
    "emp1 = Employee(\"Amar Howard\", 30000)\n",
    "print(repr(emp1))\n",
    "emp2 = Employee(\"Carolyn Ramirez\", 35000)\n",
    "print(repr(emp2))"
   ]
  },
  {
   "cell_type": "markdown",
   "id": "3613e0bb",
   "metadata": {},
   "source": [
    "## Exceptions\n",
    "\n",
    "- Exceptions are errors\n",
    "    - Combining entities with different types\n",
    "    - Division error : dividing by zero\n",
    "    - Index out of range\n",
    "- If exceptions are not handled they stop execution of program completely\n",
    "- Prevents the program from terminating when an exception is raised\n",
    "- Exceptions are classes\n",
    "    - Standar exceptions are inherited from BaseException or Exceptions\n",
    "- try --> except --> finally\n",
    "    - **try** :\n",
    "    ##### try running some code\n",
    "    \n",
    "    - **except** <ExceptionName>:\n",
    "    ##### Run this code if exception happens\n",
    "    \n",
    "    - **except** <AnotherExceptionName>:\n",
    "    \n",
    "    ##### Run this code if exception happens; can have multiple exception blocks\n",
    "    \n",
    "    - **finally**\n",
    "    ##### Run the code no matter what\n",
    "    "
   ]
  },
  {
   "cell_type": "markdown",
   "id": "32056e68",
   "metadata": {},
   "source": [
    "### Raising excpetions"
   ]
  },
  {
   "cell_type": "code",
   "execution_count": 59,
   "id": "82a49366",
   "metadata": {},
   "outputs": [
    {
     "ename": "ValueError",
     "evalue": "Invalid Length",
     "output_type": "error",
     "traceback": [
      "\u001b[1;31m---------------------------------------------------------------------------\u001b[0m",
      "\u001b[1;31mValueError\u001b[0m                                Traceback (most recent call last)",
      "\u001b[1;32m<ipython-input-59-a08f7ff90723>\u001b[0m in \u001b[0;36m<module>\u001b[1;34m\u001b[0m\n\u001b[0;32m      4\u001b[0m     \u001b[1;32mreturn\u001b[0m \u001b[1;33m[\u001b[0m\u001b[1;36m1\u001b[0m\u001b[1;33m]\u001b[0m\u001b[1;33m*\u001b[0m\u001b[0mlength\u001b[0m\u001b[1;33m\u001b[0m\u001b[1;33m\u001b[0m\u001b[0m\n\u001b[0;32m      5\u001b[0m \u001b[1;33m\u001b[0m\u001b[0m\n\u001b[1;32m----> 6\u001b[1;33m \u001b[0mmake_list_of_ones\u001b[0m\u001b[1;33m(\u001b[0m\u001b[1;33m-\u001b[0m\u001b[1;36m1\u001b[0m\u001b[1;33m)\u001b[0m\u001b[1;33m\u001b[0m\u001b[1;33m\u001b[0m\u001b[0m\n\u001b[0m",
      "\u001b[1;32m<ipython-input-59-a08f7ff90723>\u001b[0m in \u001b[0;36mmake_list_of_ones\u001b[1;34m(length)\u001b[0m\n\u001b[0;32m      1\u001b[0m \u001b[1;32mdef\u001b[0m \u001b[0mmake_list_of_ones\u001b[0m\u001b[1;33m(\u001b[0m\u001b[0mlength\u001b[0m\u001b[1;33m)\u001b[0m\u001b[1;33m:\u001b[0m\u001b[1;33m\u001b[0m\u001b[1;33m\u001b[0m\u001b[0m\n\u001b[0;32m      2\u001b[0m     \u001b[1;32mif\u001b[0m \u001b[0mlength\u001b[0m \u001b[1;33m<=\u001b[0m \u001b[1;36m0\u001b[0m\u001b[1;33m:\u001b[0m\u001b[1;33m\u001b[0m\u001b[1;33m\u001b[0m\u001b[0m\n\u001b[1;32m----> 3\u001b[1;33m         \u001b[1;32mraise\u001b[0m \u001b[0mValueError\u001b[0m\u001b[1;33m(\u001b[0m\u001b[1;34m\"Invalid Length\"\u001b[0m\u001b[1;33m)\u001b[0m\u001b[1;33m\u001b[0m\u001b[1;33m\u001b[0m\u001b[0m\n\u001b[0m\u001b[0;32m      4\u001b[0m     \u001b[1;32mreturn\u001b[0m \u001b[1;33m[\u001b[0m\u001b[1;36m1\u001b[0m\u001b[1;33m]\u001b[0m\u001b[1;33m*\u001b[0m\u001b[0mlength\u001b[0m\u001b[1;33m\u001b[0m\u001b[1;33m\u001b[0m\u001b[0m\n\u001b[0;32m      5\u001b[0m \u001b[1;33m\u001b[0m\u001b[0m\n",
      "\u001b[1;31mValueError\u001b[0m: Invalid Length"
     ]
    }
   ],
   "source": [
    "def make_list_of_ones(length):\n",
    "    if length <= 0:\n",
    "        raise ValueError(\"Invalid Length\")\n",
    "    return [1]*length\n",
    "\n",
    "make_list_of_ones(-1)"
   ]
  },
  {
   "cell_type": "markdown",
   "id": "bddb3e28",
   "metadata": {},
   "source": [
    "### Custom Exceptions\n",
    "\n",
    "- Inherit from Exception or one of its subclasses\n",
    "- Usually an empty class"
   ]
  },
  {
   "cell_type": "code",
   "execution_count": 60,
   "id": "1fe54133",
   "metadata": {},
   "outputs": [
    {
     "ename": "BalanceError",
     "evalue": "Balance has to be non-negative!",
     "output_type": "error",
     "traceback": [
      "\u001b[1;31m---------------------------------------------------------------------------\u001b[0m",
      "\u001b[1;31mBalanceError\u001b[0m                              Traceback (most recent call last)",
      "\u001b[1;32m<ipython-input-60-1f5fab22606c>\u001b[0m in \u001b[0;36m<module>\u001b[1;34m\u001b[0m\n\u001b[0;32m      9\u001b[0m             \u001b[0mzelf\u001b[0m\u001b[1;33m.\u001b[0m\u001b[0mname\u001b[0m\u001b[1;33m,\u001b[0m \u001b[0mself\u001b[0m\u001b[1;33m.\u001b[0m\u001b[0mbalance\u001b[0m \u001b[1;33m=\u001b[0m \u001b[0mname\u001b[0m\u001b[1;33m,\u001b[0m \u001b[0mbalance\u001b[0m\u001b[1;33m\u001b[0m\u001b[1;33m\u001b[0m\u001b[0m\n\u001b[0;32m     10\u001b[0m \u001b[1;33m\u001b[0m\u001b[0m\n\u001b[1;32m---> 11\u001b[1;33m \u001b[0mcust\u001b[0m \u001b[1;33m=\u001b[0m \u001b[0mCustomer\u001b[0m\u001b[1;33m(\u001b[0m\u001b[1;34m\"Larry Page\"\u001b[0m\u001b[1;33m,\u001b[0m \u001b[1;33m-\u001b[0m\u001b[1;36m100\u001b[0m\u001b[1;33m)\u001b[0m\u001b[1;33m\u001b[0m\u001b[1;33m\u001b[0m\u001b[0m\n\u001b[0m",
      "\u001b[1;32m<ipython-input-60-1f5fab22606c>\u001b[0m in \u001b[0;36m__init__\u001b[1;34m(self, name, balance)\u001b[0m\n\u001b[0;32m      5\u001b[0m     \u001b[1;32mdef\u001b[0m \u001b[0m__init__\u001b[0m\u001b[1;33m(\u001b[0m\u001b[0mself\u001b[0m\u001b[1;33m,\u001b[0m \u001b[0mname\u001b[0m\u001b[1;33m,\u001b[0m \u001b[0mbalance\u001b[0m\u001b[1;33m)\u001b[0m\u001b[1;33m:\u001b[0m\u001b[1;33m\u001b[0m\u001b[1;33m\u001b[0m\u001b[0m\n\u001b[0;32m      6\u001b[0m         \u001b[1;32mif\u001b[0m \u001b[0mbalance\u001b[0m \u001b[1;33m<\u001b[0m\u001b[1;36m0\u001b[0m\u001b[1;33m:\u001b[0m\u001b[1;33m\u001b[0m\u001b[1;33m\u001b[0m\u001b[0m\n\u001b[1;32m----> 7\u001b[1;33m             \u001b[1;32mraise\u001b[0m \u001b[0mBalanceError\u001b[0m\u001b[1;33m(\u001b[0m\u001b[1;34m\"Balance has to be non-negative!\"\u001b[0m\u001b[1;33m)\u001b[0m\u001b[1;33m\u001b[0m\u001b[1;33m\u001b[0m\u001b[0m\n\u001b[0m\u001b[0;32m      8\u001b[0m         \u001b[1;32melse\u001b[0m\u001b[1;33m:\u001b[0m\u001b[1;33m\u001b[0m\u001b[1;33m\u001b[0m\u001b[0m\n\u001b[0;32m      9\u001b[0m             \u001b[0mzelf\u001b[0m\u001b[1;33m.\u001b[0m\u001b[0mname\u001b[0m\u001b[1;33m,\u001b[0m \u001b[0mself\u001b[0m\u001b[1;33m.\u001b[0m\u001b[0mbalance\u001b[0m \u001b[1;33m=\u001b[0m \u001b[0mname\u001b[0m\u001b[1;33m,\u001b[0m \u001b[0mbalance\u001b[0m\u001b[1;33m\u001b[0m\u001b[1;33m\u001b[0m\u001b[0m\n",
      "\u001b[1;31mBalanceError\u001b[0m: Balance has to be non-negative!"
     ]
    }
   ],
   "source": [
    "class BalanceError(Exception): pass\n",
    "\n",
    "class Customer:\n",
    "    \n",
    "    def __init__(self, name, balance):\n",
    "        if balance <0:\n",
    "            raise BalanceError(\"Balance has to be non-negative!\")\n",
    "        else:\n",
    "            zelf.name, self.balance = name, balance\n",
    "\n",
    "cust = Customer(\"Larry Page\", -100)\n",
    "## Please note we will not create the object in this example"
   ]
  },
  {
   "cell_type": "markdown",
   "id": "0cb6b94b",
   "metadata": {},
   "source": [
    "### Ex: Catching exceptions\n",
    "\n",
    "Before you start writing your own custom exceptions, let's make sure you have the basics of handling exceptions down.\n",
    "\n",
    "In this exercise, you are given a function invert_at_index(x, ind) that takes two arguments, a list x and an index ind, and inverts the element of the list at that index. For example invert_at_index([5,6,7], 1) returns 1/6, or 0.166666 .\n",
    "\n",
    "Try running the code as-is and examine the output in the console. There are two unsafe operations in this function: first, if the element that we're trying to invert has the value 0, then the code will cause a ZeroDivisionError exception. Second, if the index passed to the function is out of range for the list, the code will cause a IndexError. In both cases, the script will be interrupted, which might not be desirable.\n",
    "    \n",
    "- Use a try - except - except pattern (with two except blocks) inside the function to catch and handle two exceptions as follows:\n",
    "\n",
    "    - try executing the code as-is,\n",
    "    - if ZeroDivisionError occurs, print \"Cannot divide by zero!\",\n",
    "    - if IndexError occurs, print \"Index out of range!\""
   ]
  },
  {
   "cell_type": "code",
   "execution_count": 61,
   "id": "b928762e",
   "metadata": {},
   "outputs": [
    {
     "name": "stdout",
     "output_type": "stream",
     "text": [
      "0.16666666666666666\n",
      "Cannot divide by zero!\n",
      "None\n",
      "Index out of range!\n",
      "None\n"
     ]
    }
   ],
   "source": [
    "# MODIFY the function to catch exceptions\n",
    "def invert_at_index(x, ind):\n",
    "  try:\n",
    "    return 1/x[ind]\n",
    "  except ZeroDivisionError:\n",
    "    print(\"Cannot divide by zero!\")\n",
    "  except IndexError:\n",
    "    print(\"Index out of range!\")\n",
    " \n",
    "a = [5,6,0,7]\n",
    "\n",
    "# Works okay\n",
    "print(invert_at_index(a, 1))\n",
    "\n",
    "# Potential ZeroDivisionError\n",
    "print(invert_at_index(a, 2))\n",
    "\n",
    "# Potential IndexError\n",
    "print(invert_at_index(a, 5))"
   ]
  },
  {
   "cell_type": "markdown",
   "id": "d0ad70d6",
   "metadata": {},
   "source": [
    "Great job! Of course, this is only a toy example to illustrate the structure: you can do much more in the except block than just print a message. For example, it might make sense for a function to return a special value when an error occurs. It's important to note, though, that this code will only be able to handle the two particular errors specified in the except blocks. Any other error would still terminate the program."
   ]
  },
  {
   "cell_type": "markdown",
   "id": "5f87988f",
   "metadata": {},
   "source": [
    "### Ex: Custom exceptions\n",
    "You don't have to rely solely on built-in exceptions like IndexError: you can define your own exceptions more specific to your application. You can also define exception hierarchies. All you need to define an exception is a class inherited from the built-in Exception class or one of its subclasses.\n",
    "\n",
    "In Chapter 1, you defined an Employee class and used print statements and default values to handle errors like creating an employee with a salary below the minimum or giving a raise that is too big. A better way to handle this situation is to use exceptions. Because these errors are specific to our application (unlike, for example, a division by zero error which is universal), it makes sense to use custom exception classes.\n",
    "\n",
    "### Ex: Part 1\n",
    "\n",
    "- Define an empty class SalaryError inherited from the built-in ValueError class.\n",
    "- Define an empty class BonusError inherited from the SalaryError class."
   ]
  },
  {
   "cell_type": "code",
   "execution_count": 65,
   "id": "802e57b0",
   "metadata": {},
   "outputs": [],
   "source": [
    "# Define SalaryError inherited from ValueError\n",
    "class SalaryError(ValueError): pass\n",
    "\n",
    "# Define BonusError inherited from SalaryError\n",
    "class BonusError(SalaryError): pass\n",
    "\n"
   ]
  },
  {
   "cell_type": "markdown",
   "id": "4f681155",
   "metadata": {},
   "source": [
    "### Ex: Part 2\n",
    "\n",
    "- Complete the definition of __init__() to raise a SalaryError with the message \"Salary is too low!\" if the salary parameter is less than MIN_SALARY class attribute."
   ]
  },
  {
   "cell_type": "code",
   "execution_count": 66,
   "id": "90176ec9",
   "metadata": {},
   "outputs": [],
   "source": [
    "class SalaryError(ValueError): pass\n",
    "class BonusError(SalaryError): pass\n",
    "\n",
    "class Employee:\n",
    "  MIN_SALARY = 30000\n",
    "  MAX_RAISE = 5000\n",
    "\n",
    "  def __init__(self, name, salary = 30000):\n",
    "    self.name = name\n",
    "    \n",
    "    # If salary is too low\n",
    "    if self.salary < MIN_SALARY:\n",
    "      # Raise a SalaryError exception\n",
    "      raise SalaryError(\"Salary is too low!\")\n",
    "      \n",
    "    self.salary = salary\n",
    "      "
   ]
  },
  {
   "cell_type": "markdown",
   "id": "b0cfeb51",
   "metadata": {},
   "source": [
    "### Ex: Part 3\n",
    "\n",
    "- Examine the give_bonus() method, and the rewrite it using exceptions instead of print statements:\n",
    "\n",
    "    - raise a BonusError if the bonus amount is too high;\n",
    "    - raise a SalaryError if the result of adding the bonus would be too low."
   ]
  },
  {
   "cell_type": "code",
   "execution_count": 67,
   "id": "50146892",
   "metadata": {},
   "outputs": [],
   "source": [
    "class SalaryError(ValueError): pass\n",
    "class BonusError(SalaryError): pass\n",
    "\n",
    "class Employee:\n",
    "  MIN_SALARY = 30000\n",
    "  MAX_BONUS = 5000\n",
    "\n",
    "  def __init__(self, name, salary = 30000):\n",
    "    self.name = name    \n",
    "    if salary < Employee.MIN_SALARY:\n",
    "      raise SalaryError(\"Salary is too low!\")      \n",
    "    self.salary = salary\n",
    "    \n",
    "  # Rewrite using exceptions  \n",
    "  def give_bonus(self, amount):\n",
    "    if amount > Employee.MAX_BONUS:\n",
    "       raise BonusError(\"The bonus amount is too high!\")  \n",
    "        \n",
    "    elif self.salary + amount <  Employee.MIN_SALARY:\n",
    "       raise SalaryError(\"The salary after bonus is too low!\")\n",
    "      \n",
    "    else:  \n",
    "      self.salary += amount"
   ]
  },
  {
   "cell_type": "code",
   "execution_count": null,
   "id": "2d3d4623",
   "metadata": {},
   "outputs": [],
   "source": []
  },
  {
   "cell_type": "code",
   "execution_count": 68,
   "id": "e449e5f3",
   "metadata": {},
   "outputs": [
    {
     "name": "stdout",
     "output_type": "stream",
     "text": [
      "SalaryError caught!\n",
      "BonusError caught!\n",
      "SalaryError caught again!\n"
     ]
    },
    {
     "ename": "SalaryError",
     "evalue": "The salary after bonus is too low!",
     "output_type": "error",
     "traceback": [
      "\u001b[1;31m---------------------------------------------------------------------------\u001b[0m",
      "\u001b[1;31mSalaryError\u001b[0m                               Traceback (most recent call last)",
      "\u001b[1;32m<ipython-input-68-6c06d88ac727>\u001b[0m in \u001b[0;36m<module>\u001b[1;34m\u001b[0m\n\u001b[0;32m     16\u001b[0m \u001b[1;33m\u001b[0m\u001b[0m\n\u001b[0;32m     17\u001b[0m \u001b[1;32mtry\u001b[0m\u001b[1;33m:\u001b[0m\u001b[1;33m\u001b[0m\u001b[1;33m\u001b[0m\u001b[0m\n\u001b[1;32m---> 18\u001b[1;33m   \u001b[0memp\u001b[0m\u001b[1;33m.\u001b[0m\u001b[0mgive_bonus\u001b[0m\u001b[1;33m(\u001b[0m\u001b[1;33m-\u001b[0m\u001b[1;36m100000\u001b[0m\u001b[1;33m)\u001b[0m\u001b[1;33m\u001b[0m\u001b[1;33m\u001b[0m\u001b[0m\n\u001b[0m\u001b[0;32m     19\u001b[0m \u001b[1;32mexcept\u001b[0m \u001b[0mBonusError\u001b[0m\u001b[1;33m:\u001b[0m\u001b[1;33m\u001b[0m\u001b[1;33m\u001b[0m\u001b[0m\n\u001b[0;32m     20\u001b[0m   \u001b[0mprint\u001b[0m\u001b[1;33m(\u001b[0m\u001b[1;34m\"BonusError caught again!\"\u001b[0m\u001b[1;33m)\u001b[0m\u001b[1;33m\u001b[0m\u001b[1;33m\u001b[0m\u001b[0m\n",
      "\u001b[1;32m<ipython-input-67-3ad8b14fb6ba>\u001b[0m in \u001b[0;36mgive_bonus\u001b[1;34m(self, amount)\u001b[0m\n\u001b[0;32m     18\u001b[0m \u001b[1;33m\u001b[0m\u001b[0m\n\u001b[0;32m     19\u001b[0m     \u001b[1;32melif\u001b[0m \u001b[0mself\u001b[0m\u001b[1;33m.\u001b[0m\u001b[0msalary\u001b[0m \u001b[1;33m+\u001b[0m \u001b[0mamount\u001b[0m \u001b[1;33m<\u001b[0m  \u001b[0mEmployee\u001b[0m\u001b[1;33m.\u001b[0m\u001b[0mMIN_SALARY\u001b[0m\u001b[1;33m:\u001b[0m\u001b[1;33m\u001b[0m\u001b[1;33m\u001b[0m\u001b[0m\n\u001b[1;32m---> 20\u001b[1;33m        \u001b[1;32mraise\u001b[0m \u001b[0mSalaryError\u001b[0m\u001b[1;33m(\u001b[0m\u001b[1;34m\"The salary after bonus is too low!\"\u001b[0m\u001b[1;33m)\u001b[0m\u001b[1;33m\u001b[0m\u001b[1;33m\u001b[0m\u001b[0m\n\u001b[0m\u001b[0;32m     21\u001b[0m \u001b[1;33m\u001b[0m\u001b[0m\n\u001b[0;32m     22\u001b[0m     \u001b[1;32melse\u001b[0m\u001b[1;33m:\u001b[0m\u001b[1;33m\u001b[0m\u001b[1;33m\u001b[0m\u001b[0m\n",
      "\u001b[1;31mSalaryError\u001b[0m: The salary after bonus is too low!"
     ]
    }
   ],
   "source": [
    "emp = Employee(\"Katze Rik\", salary=50000)\n",
    "try:\n",
    "  emp.give_bonus(7000)\n",
    "except SalaryError:\n",
    "  print(\"SalaryError caught!\")\n",
    "\n",
    "try:\n",
    "  emp.give_bonus(7000)\n",
    "except BonusError:\n",
    "  print(\"BonusError caught!\")\n",
    "\n",
    "try:\n",
    "  emp.give_bonus(-100000)\n",
    "except SalaryError:\n",
    "  print(\"SalaryError caught again!\")\n",
    "\n",
    "try:\n",
    "  emp.give_bonus(-100000)\n",
    "except BonusError:\n",
    "  print(\"BonusError caught again!\")  "
   ]
  },
  {
   "cell_type": "markdown",
   "id": "5bdca43e",
   "metadata": {},
   "source": [
    "### Polymorphism:\n",
    "\n",
    "- Using a unified interface to operate on objects of different classes"
   ]
  },
  {
   "cell_type": "code",
   "execution_count": null,
   "id": "5d732848",
   "metadata": {},
   "outputs": [],
   "source": []
  }
 ],
 "metadata": {
  "colab": {
   "collapsed_sections": [],
   "name": "Object Oriented Programming.ipynb",
   "provenance": []
  },
  "kernelspec": {
   "display_name": "Python 3",
   "language": "python",
   "name": "python3"
  },
  "language_info": {
   "codemirror_mode": {
    "name": "ipython",
    "version": 3
   },
   "file_extension": ".py",
   "mimetype": "text/x-python",
   "name": "python",
   "nbconvert_exporter": "python",
   "pygments_lexer": "ipython3",
   "version": "3.8.8"
  }
 },
 "nbformat": 4,
 "nbformat_minor": 5
}
